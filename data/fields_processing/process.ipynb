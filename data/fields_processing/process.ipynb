{
 "cells": [
  {
   "cell_type": "code",
   "execution_count": 32,
   "metadata": {},
   "outputs": [],
   "source": [
    "import pandas as pd\n",
    "import os\n",
    "import csv\n",
    "import json\n",
    "import glob"
   ]
  },
  {
   "cell_type": "code",
   "execution_count": 33,
   "metadata": {},
   "outputs": [
    {
     "output_type": "stream",
     "name": "stdout",
     "text": [
      "['BG_METADATA_2018.csv']\n"
     ]
    }
   ],
   "source": [
    "myFiles = glob.glob('*.csv')\n",
    "print(myFiles)"
   ]
  },
  {
   "cell_type": "code",
   "execution_count": 34,
   "metadata": {},
   "outputs": [
    {
     "output_type": "execute_result",
     "data": {
      "text/plain": [
       "      Short Name                                          Full Name\n",
       "0       B00001e1  UNWEIGHTED SAMPLE COUNT OF THE POPULATION: Tot...\n",
       "1       B00001m1  UNWEIGHTED SAMPLE COUNT OF THE POPULATION: Tot...\n",
       "2       B00002e1  UNWEIGHTED SAMPLE HOUSING UNITS: Total: Housin...\n",
       "3       B00002m1  UNWEIGHTED SAMPLE HOUSING UNITS: Total: Housin...\n",
       "4       B01001e1  SEX BY AGE: Total: Total Population -- (Estimate)\n",
       "...          ...                                                ...\n",
       "53987   B99283m3  ALLOCATION OF HOUSEHOLD INTERNET SUBSCRIPTION ...\n",
       "53988   B99283e4  ALLOCATION OF HOUSEHOLD INTERNET SUBSCRIPTION ...\n",
       "53989   B99283m4  ALLOCATION OF HOUSEHOLD INTERNET SUBSCRIPTION ...\n",
       "53990   B99283e5  ALLOCATION OF HOUSEHOLD INTERNET SUBSCRIPTION ...\n",
       "53991   B99283m5  ALLOCATION OF HOUSEHOLD INTERNET SUBSCRIPTION ...\n",
       "\n",
       "[53992 rows x 2 columns]"
      ],
      "text/html": "<div>\n<style scoped>\n    .dataframe tbody tr th:only-of-type {\n        vertical-align: middle;\n    }\n\n    .dataframe tbody tr th {\n        vertical-align: top;\n    }\n\n    .dataframe thead th {\n        text-align: right;\n    }\n</style>\n<table border=\"1\" class=\"dataframe\">\n  <thead>\n    <tr style=\"text-align: right;\">\n      <th></th>\n      <th>Short Name</th>\n      <th>Full Name</th>\n    </tr>\n  </thead>\n  <tbody>\n    <tr>\n      <th>0</th>\n      <td>B00001e1</td>\n      <td>UNWEIGHTED SAMPLE COUNT OF THE POPULATION: Tot...</td>\n    </tr>\n    <tr>\n      <th>1</th>\n      <td>B00001m1</td>\n      <td>UNWEIGHTED SAMPLE COUNT OF THE POPULATION: Tot...</td>\n    </tr>\n    <tr>\n      <th>2</th>\n      <td>B00002e1</td>\n      <td>UNWEIGHTED SAMPLE HOUSING UNITS: Total: Housin...</td>\n    </tr>\n    <tr>\n      <th>3</th>\n      <td>B00002m1</td>\n      <td>UNWEIGHTED SAMPLE HOUSING UNITS: Total: Housin...</td>\n    </tr>\n    <tr>\n      <th>4</th>\n      <td>B01001e1</td>\n      <td>SEX BY AGE: Total: Total Population -- (Estimate)</td>\n    </tr>\n    <tr>\n      <th>...</th>\n      <td>...</td>\n      <td>...</td>\n    </tr>\n    <tr>\n      <th>53987</th>\n      <td>B99283m3</td>\n      <td>ALLOCATION OF HOUSEHOLD INTERNET SUBSCRIPTION ...</td>\n    </tr>\n    <tr>\n      <th>53988</th>\n      <td>B99283e4</td>\n      <td>ALLOCATION OF HOUSEHOLD INTERNET SUBSCRIPTION ...</td>\n    </tr>\n    <tr>\n      <th>53989</th>\n      <td>B99283m4</td>\n      <td>ALLOCATION OF HOUSEHOLD INTERNET SUBSCRIPTION ...</td>\n    </tr>\n    <tr>\n      <th>53990</th>\n      <td>B99283e5</td>\n      <td>ALLOCATION OF HOUSEHOLD INTERNET SUBSCRIPTION ...</td>\n    </tr>\n    <tr>\n      <th>53991</th>\n      <td>B99283m5</td>\n      <td>ALLOCATION OF HOUSEHOLD INTERNET SUBSCRIPTION ...</td>\n    </tr>\n  </tbody>\n</table>\n<p>53992 rows × 2 columns</p>\n</div>"
     },
     "metadata": {},
     "execution_count": 34
    }
   ],
   "source": [
    "bg_meta = pd.read_csv(myFiles[0], header = 0, index_col = False)\n",
    "bg_meta"
   ]
  },
  {
   "cell_type": "code",
   "execution_count": 35,
   "metadata": {},
   "outputs": [
    {
     "output_type": "execute_result",
     "data": {
      "text/plain": [
       "      Short Name                                          Full Name\n",
       "0       B00001e1  UNWEIGHTED SAMPLE COUNT OF THE POPULATION: Tot...\n",
       "1       B00001m1  UNWEIGHTED SAMPLE COUNT OF THE POPULATION: Tot...\n",
       "2       B00002e1  UNWEIGHTED SAMPLE HOUSING UNITS: Total: Housin...\n",
       "3       B00002m1  UNWEIGHTED SAMPLE HOUSING UNITS: Total: Housin...\n",
       "4       B01001e1  SEX BY AGE: Total: Total Population -- (Estimate)\n",
       "...          ...                                                ...\n",
       "53987   B99283m3  ALLOCATION OF HOUSEHOLD INTERNET SUBSCRIPTION ...\n",
       "53988   B99283e4  ALLOCATION OF HOUSEHOLD INTERNET SUBSCRIPTION ...\n",
       "53989   B99283m4  ALLOCATION OF HOUSEHOLD INTERNET SUBSCRIPTION ...\n",
       "53990   B99283e5  ALLOCATION OF HOUSEHOLD INTERNET SUBSCRIPTION ...\n",
       "53991   B99283m5  ALLOCATION OF HOUSEHOLD INTERNET SUBSCRIPTION ...\n",
       "\n",
       "[53992 rows x 2 columns]"
      ],
      "text/html": "<div>\n<style scoped>\n    .dataframe tbody tr th:only-of-type {\n        vertical-align: middle;\n    }\n\n    .dataframe tbody tr th {\n        vertical-align: top;\n    }\n\n    .dataframe thead th {\n        text-align: right;\n    }\n</style>\n<table border=\"1\" class=\"dataframe\">\n  <thead>\n    <tr style=\"text-align: right;\">\n      <th></th>\n      <th>Short Name</th>\n      <th>Full Name</th>\n    </tr>\n  </thead>\n  <tbody>\n    <tr>\n      <th>0</th>\n      <td>B00001e1</td>\n      <td>UNWEIGHTED SAMPLE COUNT OF THE POPULATION: Tot...</td>\n    </tr>\n    <tr>\n      <th>1</th>\n      <td>B00001m1</td>\n      <td>UNWEIGHTED SAMPLE COUNT OF THE POPULATION: Tot...</td>\n    </tr>\n    <tr>\n      <th>2</th>\n      <td>B00002e1</td>\n      <td>UNWEIGHTED SAMPLE HOUSING UNITS: Total: Housin...</td>\n    </tr>\n    <tr>\n      <th>3</th>\n      <td>B00002m1</td>\n      <td>UNWEIGHTED SAMPLE HOUSING UNITS: Total: Housin...</td>\n    </tr>\n    <tr>\n      <th>4</th>\n      <td>B01001e1</td>\n      <td>SEX BY AGE: Total: Total Population -- (Estimate)</td>\n    </tr>\n    <tr>\n      <th>...</th>\n      <td>...</td>\n      <td>...</td>\n    </tr>\n    <tr>\n      <th>53987</th>\n      <td>B99283m3</td>\n      <td>ALLOCATION OF HOUSEHOLD INTERNET SUBSCRIPTION ...</td>\n    </tr>\n    <tr>\n      <th>53988</th>\n      <td>B99283e4</td>\n      <td>ALLOCATION OF HOUSEHOLD INTERNET SUBSCRIPTION ...</td>\n    </tr>\n    <tr>\n      <th>53989</th>\n      <td>B99283m4</td>\n      <td>ALLOCATION OF HOUSEHOLD INTERNET SUBSCRIPTION ...</td>\n    </tr>\n    <tr>\n      <th>53990</th>\n      <td>B99283e5</td>\n      <td>ALLOCATION OF HOUSEHOLD INTERNET SUBSCRIPTION ...</td>\n    </tr>\n    <tr>\n      <th>53991</th>\n      <td>B99283m5</td>\n      <td>ALLOCATION OF HOUSEHOLD INTERNET SUBSCRIPTION ...</td>\n    </tr>\n  </tbody>\n</table>\n<p>53992 rows × 2 columns</p>\n</div>"
     },
     "metadata": {},
     "execution_count": 35
    }
   ],
   "source": [
    "bg_meta.reset_index()\n",
    "bg_meta"
   ]
  },
  {
   "cell_type": "code",
   "execution_count": 36,
   "metadata": {},
   "outputs": [],
   "source": [
    "bg_meta.to_json(os.path.join(os.getcwd(), 'bg_meta.json'), orient = \"records\")"
   ]
  },
  {
   "cell_type": "code",
   "execution_count": 38,
   "metadata": {},
   "outputs": [],
   "source": [
    "with open(os.path.join(os.getcwd(), 'bg_meta.json'), 'r') as inp:\n",
    "    y = inp.read().upper()\n",
    "with open(os.path.join(os.getcwd(), 'bg_meta2.json'), 'a') as out:\n",
    "    out.write(y)"
   ]
  },
  {
   "cell_type": "code",
   "execution_count": null,
   "metadata": {},
   "outputs": [],
   "source": []
  }
 ],
 "metadata": {
  "kernelspec": {
   "display_name": "Python 3",
   "language": "python",
   "name": "python3"
  },
  "language_info": {
   "codemirror_mode": {
    "name": "ipython",
    "version": 3
   },
   "file_extension": ".py",
   "mimetype": "text/x-python",
   "name": "python",
   "nbconvert_exporter": "python",
   "pygments_lexer": "ipython3",
   "version": "3.7.6-final"
  }
 },
 "nbformat": 4,
 "nbformat_minor": 4
}